{
 "cells": [
  {
   "cell_type": "code",
   "execution_count": 5,
   "metadata": {},
   "outputs": [],
   "source": [
    "import random\n",
    "import math\n",
    "import matplotlib.pyplot as plt"
   ]
  },
  {
   "cell_type": "code",
   "execution_count": 16,
   "metadata": {},
   "outputs": [],
   "source": [
    "# Generate n - dimension data for testing\n",
    "\n",
    "def generate_data(n_samples = 300, n_features=2, n_centers=3):\n",
    "    data = []\n",
    "    for _ in range(n_centers):\n",
    "        center = [random.uniform(-10, 10) for _ in range(n_features)]\n",
    "        # for each center generate equal amount of data\n",
    "        for _ in range(n_samples // n_features):\n",
    "            point = [c + random.gauss(0, 1) for c in center]\n",
    "            data.append(point)\n",
    "    return data\n",
    "\n"
   ]
  },
  {
   "cell_type": "code",
   "execution_count": 23,
   "metadata": {},
   "outputs": [
    {
     "data": {
      "text/plain": [
       "<matplotlib.collections.PathCollection at 0x7fc64c68ff28>"
      ]
     },
     "execution_count": 23,
     "metadata": {},
     "output_type": "execute_result"
    },
    {
     "data": {
      "image/png": "[encoded data removed]",
      "text/plain": [
       "<Figure size 432x288 with 1 Axes>"
      ]
     },
     "metadata": {
      "needs_background": "light"
     },
     "output_type": "display_data"
    }
   ],
   "source": [
    "# Let's try to plot the generated data \n",
    "data = generate_data(300, 3, 3)\n",
    "x = [point[0] for point in data]\n",
    "y = [point[1] for point in data]\n",
    "plt.scatter(x, y)\n"
   ]
  },
  {
   "cell_type": "code",
   "execution_count": null,
   "metadata": {},
   "outputs": [],
   "source": [
    "def initialize_centroids(data, k):\n",
    "    \"\"\"Initialize K centroids randomly.\"\"\"\n",
    "    return random.sample(data, k)\n",
    "\n",
    "def euclidean_distance(point1, point2):\n",
    "    \"\"\"Calculate the Euclidean distance between two points.\"\"\"\n",
    "    return math.sqrt(sum((a - b) ** 2 for a, b in zip(point1, point2)))\n",
    "\n",
    "def assign_clusters(data, centroids):\n",
    "    \"\"\"Assign each data point to the nearest centroid.\"\"\"\n",
    "    clusters = [[] for _ in centroids]\n",
    "    for point in data:\n",
    "        distances = [euclidean_distance(point, centroid) for centroid in centroids]\n",
    "        cluster_index = distances.index(min(distances))\n",
    "        clusters[cluster_index].append(point)\n",
    "    return clusters\n",
    "\n",
    "def update_centroids(clusters):\n",
    "    \"\"\"Calculate new centroids based on the current clusters.\"\"\"\n",
    "    new_centroids = []\n",
    "    for cluster in clusters:\n",
    "        if cluster:  # Avoid division by zero for empty clusters\n",
    "            centroid = [sum(coord) / len(cluster) for coord in zip(*cluster)]\n",
    "            new_centroids.append(centroid)\n",
    "        else:\n",
    "            new_centroids.append(random.choice(data))  # Reinitialize empty clusters\n",
    "    return new_centroids\n",
    "\n",
    "\n",
    "def kmeans(data, k, max_iterations=100):\n",
    "    \"\"\"Perform K-means clustering.\"\"\"\n",
    "    centroids = initialize_centroids(data, k)\n",
    "    \n",
    "    for _ in range(max_iterations):\n",
    "        old_centroids = centroids\n",
    "        clusters = assign_clusters(data, centroids)\n",
    "        centroids = update_centroids(clusters)\n",
    "        \n",
    "        if centroids == old_centroids:\n",
    "            break\n",
    "    \n",
    "    return clusters, centroids\n",
    "\n",
    "def kmeans(data, k, max_iter = 100):\n",
    "    centroids = initialize_centroids(data, k)\n",
    "    \n",
    "    for _ in range(max_iter):\n",
    "        old_centroids = centroids\n",
    "        clusters = assign_clusters(data, centroids)\n",
    "        centroids = update_centroids(clusters)\n",
    "        "
   ]
  }
 ],
 "metadata": {
  "kernelspec": {
   "display_name": "Python 3",
   "language": "python",
   "name": "python3"
  },
  "language_info": {
   "codemirror_mode": {
    "name": "ipython",
    "version": 3
   },
   "file_extension": ".py",
   "mimetype": "text/x-python",
   "name": "python",
   "nbconvert_exporter": "python",
   "pygments_lexer": "ipython3",
   "version": "3.7.3"
  },
  "orig_nbformat": 4
 },
 "nbformat": 4,
 "nbformat_minor": 2
}
