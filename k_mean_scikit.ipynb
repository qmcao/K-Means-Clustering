{
 "cells": [
  {
   "cell_type": "code",
   "execution_count": 5,
   "metadata": {},
   "outputs": [],
   "source": [
    "import numpy as np \n",
    "from mnist import MNIST # require `pip install python-mnist`\n",
    "import matplotlib.pyplot as plt\n",
    "from sklearn.cluster import KMeans\n",
    "from sklearn.neighbors import NearestNeighbors\n",
    "from sklearn.metrics import accuracy_score\n",
    "from scipy.stats import mode\n",
    "from sklearn.preprocessing import StandardScaler\n",
    "from sklearn.decomposition import PCA"
   ]
  },
  {
   "cell_type": "code",
   "execution_count": 26,
   "metadata": {},
   "outputs": [],
   "source": [
    "mndata = MNIST(path=\"data\")\n",
    "mndata.load_testing()\n",
    "X = mndata.test_images\n",
    "X0 = np.asarray(X)/256\n",
    "true_labels = mndata.test_labels\n",
    "\n",
    "X = X0\n",
    "\n",
    "K = 10\n",
    "kmeans = KMeans(n_clusters=K, init= \"k-means++\").fit(X)\n",
    "pred_label = kmeans.predict(X)"
   ]
  },
  {
   "cell_type": "markdown",
   "metadata": {},
   "source": []
  },
  {
   "cell_type": "code",
   "execution_count": 27,
   "metadata": {},
   "outputs": [
    {
     "data": {
      "image/png": "[encoded data removed]",
      "text/plain": [
       "<Figure size 1440x144 with 10 Axes>"
      ]
     },
     "metadata": {
      "needs_background": "light"
     },
     "output_type": "display_data"
    }
   ],
   "source": [
    "\"Let's visualize our cluster centers\"\n",
    "num_cluster = kmeans.cluster_centers_.shape[0]\n",
    "# Create a figure with subplots\n",
    "fig, axes = plt.subplots(1, num_cluster, figsize=(num_cluster * 2, 2))\n",
    "\n",
    "for row in range(num_cluster):\n",
    "    vector = kmeans.cluster_centers_[row]\n",
    "    image = vector.reshape(28, 28)\n",
    "    ax = axes[row]\n",
    "    im = ax.imshow(image, cmap=\"gray\")\n",
    "    #fig.colorbar\n",
    "    ax.axis('off')\n",
    "    #fig.colorbar(im, ax=ax)\n",
    "    \n",
    "\n",
    "\n",
    "plt.show()\n",
    "\n",
    "# image = tmp.reshape(28,28)\n",
    "# plt.imshow(image, cmap='gray')\n",
    "# plt.colorbar()\n",
    "# plt.title('24x24 Image')\n",
    "# plt.show()"
   ]
  },
  {
   "cell_type": "code",
   "execution_count": 8,
   "metadata": {},
   "outputs": [],
   "source": []
  },
  {
   "cell_type": "code",
   "execution_count": 11,
   "metadata": {},
   "outputs": [],
   "source": []
  },
  {
   "cell_type": "code",
   "execution_count": 14,
   "metadata": {},
   "outputs": [
    {
     "name": "stdout",
     "output_type": "stream",
     "text": [
      "Best inertia: 3302496.36505299\n",
      "Best silhouette score: 0.06414593218575178\n"
     ]
    },
    {
     "data": {
      "text/plain": [
       "(10000,)"
      ]
     },
     "execution_count": 14,
     "metadata": {},
     "output_type": "execute_result"
    }
   ],
   "source": [
    "\n",
    "\n"
   ]
  },
  {
   "cell_type": "code",
   "execution_count": 19,
   "metadata": {},
   "outputs": [
    {
     "name": "stdout",
     "output_type": "stream",
     "text": [
      "443\n"
     ]
    }
   ],
   "source": []
  },
  {
   "cell_type": "code",
   "execution_count": null,
   "metadata": {},
   "outputs": [],
   "source": []
  },
  {
   "cell_type": "code",
   "execution_count": null,
   "metadata": {},
   "outputs": [],
   "source": []
  }
 ],
 "metadata": {
  "kernelspec": {
   "display_name": "Python 3",
   "language": "python",
   "name": "python3"
  },
  "language_info": {
   "codemirror_mode": {
    "name": "ipython",
    "version": 3
   },
   "file_extension": ".py",
   "mimetype": "text/x-python",
   "name": "python",
   "nbconvert_exporter": "python",
   "pygments_lexer": "ipython3",
   "version": "3.7.3"
  },
  "orig_nbformat": 4
 },
 "nbformat": 4,
 "nbformat_minor": 2
}
